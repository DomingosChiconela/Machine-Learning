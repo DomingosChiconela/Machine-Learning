{
 "cells": [
  {
   "cell_type": "raw",
   "id": "ea67b311-2508-48f4-beaa-4023f6bf51a0",
   "metadata": {},
   "source": [
    "1 Obtendo dados e preparando dados"
   ]
  },
  {
   "cell_type": "code",
   "execution_count": 2,
   "id": "a1fe7d47-9189-4eba-ab9c-8cd8eed7396f",
   "metadata": {},
   "outputs": [],
   "source": [
    "#Biblioteca para carga dos dados\n",
    "import pandas as pd "
   ]
  },
  {
   "cell_type": "code",
   "execution_count": 3,
   "id": "7a61243b-1c9f-4e5d-9f7d-825972c0edf7",
   "metadata": {},
   "outputs": [],
   "source": [
    "#Definção dos títulos das colunas\n",
    "headers = ['ESCT', 'NDEP', 'RENDA', 'TIPOR', 'VBEM', 'NPARC',\n",
    "           'VPARC', 'TEL', 'IDADE', 'RESMS', 'ENTRADA', 'CLASSE']\n",
    "\n",
    "\n",
    "#Carga do conjunto de treino\n",
    "#Conjunto de dados disponível do repositório do Prof. Eduardo Bezerra (CEFET/RJ)\n",
    "arquivo = 'https://raw.githubusercontent.com/MLRG-CEFET-RJ/ml-class/master/ml-t3/datasets/credtrain.txt'\n",
    "data_train =pd.read_csv(arquivo, sep='\\t', header=None, names=headers)\n",
    "\n",
    "#Carga do conjunto de teste\n",
    "#Conjunto de dados disponível do repositório do Prof. Eduardo Bezerra (CEFET/RJ)\n",
    "arquivo = 'https://raw.githubusercontent.com/MLRG-CEFET-RJ/ml-class/master/ml-t3/datasets/credtest.txt'\n",
    "data_test = pd.read_csv(arquivo, sep='\\t', header=None, names=headers)\n",
    "\n"
   ]
  },
  {
   "cell_type": "code",
   "execution_count": 4,
   "id": "f3f31e01-5416-4979-bb36-1d9863b8c048",
   "metadata": {},
   "outputs": [
    {
     "data": {
      "text/html": [
       "<div>\n",
       "<style scoped>\n",
       "    .dataframe tbody tr th:only-of-type {\n",
       "        vertical-align: middle;\n",
       "    }\n",
       "\n",
       "    .dataframe tbody tr th {\n",
       "        vertical-align: top;\n",
       "    }\n",
       "\n",
       "    .dataframe thead th {\n",
       "        text-align: right;\n",
       "    }\n",
       "</style>\n",
       "<table border=\"1\" class=\"dataframe\">\n",
       "  <thead>\n",
       "    <tr style=\"text-align: right;\">\n",
       "      <th></th>\n",
       "      <th>ESCT</th>\n",
       "      <th>NDEP</th>\n",
       "      <th>RENDA</th>\n",
       "      <th>TIPOR</th>\n",
       "      <th>VBEM</th>\n",
       "      <th>NPARC</th>\n",
       "      <th>VPARC</th>\n",
       "      <th>TEL</th>\n",
       "      <th>IDADE</th>\n",
       "      <th>RESMS</th>\n",
       "      <th>ENTRADA</th>\n",
       "      <th>CLASSE</th>\n",
       "    </tr>\n",
       "  </thead>\n",
       "  <tbody>\n",
       "    <tr>\n",
       "      <th>0</th>\n",
       "      <td>0</td>\n",
       "      <td>2</td>\n",
       "      <td>500</td>\n",
       "      <td>1</td>\n",
       "      <td>618</td>\n",
       "      <td>10</td>\n",
       "      <td>85</td>\n",
       "      <td>0</td>\n",
       "      <td>36</td>\n",
       "      <td>6</td>\n",
       "      <td>0</td>\n",
       "      <td>0</td>\n",
       "    </tr>\n",
       "    <tr>\n",
       "      <th>1</th>\n",
       "      <td>1</td>\n",
       "      <td>0</td>\n",
       "      <td>813</td>\n",
       "      <td>0</td>\n",
       "      <td>552</td>\n",
       "      <td>4</td>\n",
       "      <td>119</td>\n",
       "      <td>0</td>\n",
       "      <td>43</td>\n",
       "      <td>48</td>\n",
       "      <td>119</td>\n",
       "      <td>1</td>\n",
       "    </tr>\n",
       "    <tr>\n",
       "      <th>2</th>\n",
       "      <td>3</td>\n",
       "      <td>0</td>\n",
       "      <td>350</td>\n",
       "      <td>0</td>\n",
       "      <td>488</td>\n",
       "      <td>12</td>\n",
       "      <td>66</td>\n",
       "      <td>0</td>\n",
       "      <td>43</td>\n",
       "      <td>0</td>\n",
       "      <td>0</td>\n",
       "      <td>1</td>\n",
       "    </tr>\n",
       "    <tr>\n",
       "      <th>3</th>\n",
       "      <td>1</td>\n",
       "      <td>0</td>\n",
       "      <td>1530</td>\n",
       "      <td>0</td>\n",
       "      <td>381</td>\n",
       "      <td>1</td>\n",
       "      <td>398</td>\n",
       "      <td>0</td>\n",
       "      <td>28</td>\n",
       "      <td>48</td>\n",
       "      <td>0</td>\n",
       "      <td>1</td>\n",
       "    </tr>\n",
       "    <tr>\n",
       "      <th>4</th>\n",
       "      <td>0</td>\n",
       "      <td>0</td>\n",
       "      <td>688</td>\n",
       "      <td>1</td>\n",
       "      <td>396</td>\n",
       "      <td>10</td>\n",
       "      <td>60</td>\n",
       "      <td>0</td>\n",
       "      <td>49</td>\n",
       "      <td>72</td>\n",
       "      <td>0</td>\n",
       "      <td>1</td>\n",
       "    </tr>\n",
       "  </tbody>\n",
       "</table>\n",
       "</div>"
      ],
      "text/plain": [
       "   ESCT  NDEP  RENDA  TIPOR  VBEM  NPARC  VPARC  TEL  IDADE  RESMS  ENTRADA  \\\n",
       "0     0     2    500      1   618     10     85    0     36      6        0   \n",
       "1     1     0    813      0   552      4    119    0     43     48      119   \n",
       "2     3     0    350      0   488     12     66    0     43      0        0   \n",
       "3     1     0   1530      0   381      1    398    0     28     48        0   \n",
       "4     0     0    688      1   396     10     60    0     49     72        0   \n",
       "\n",
       "   CLASSE  \n",
       "0       0  \n",
       "1       1  \n",
       "2       1  \n",
       "3       1  \n",
       "4       1  "
      ]
     },
     "execution_count": 4,
     "metadata": {},
     "output_type": "execute_result"
    }
   ],
   "source": [
    "data_test.head()"
   ]
  },
  {
   "cell_type": "code",
   "execution_count": 5,
   "id": "99fff3c3-3d61-4289-9bff-13663d261cb5",
   "metadata": {},
   "outputs": [],
   "source": [
    "#Biblioteca para transformação dos dados em matrizes\n",
    "import numpy as np"
   ]
  },
  {
   "cell_type": "code",
   "execution_count": 6,
   "id": "458e96b7-773e-4651-aec9-7c4dec4183f1",
   "metadata": {},
   "outputs": [],
   "source": [
    "#Transoformação dos atributos e da classe alvo em matrizes\n",
    "X_train_ = np.array(data_train.iloc[:, 0:11])\n",
    "y_train_ = np.array(data_train['CLASSE'])\n",
    "\n",
    "#Transformação dos atributos e da classe alvo em matrizes\n",
    "X_test = np.array(data_test.iloc[:, 0:11])\n",
    "y_test = np.array(data_test['CLASSE'])"
   ]
  },
  {
   "cell_type": "code",
   "execution_count": 7,
   "id": "79a4ac95-1927-468f-bc61-dd28446d1069",
   "metadata": {},
   "outputs": [
    {
     "data": {
      "text/plain": [
       "array([[   0,    2,  500, ...,   36,    6,    0],\n",
       "       [   1,    0,  813, ...,   43,   48,  119],\n",
       "       [   3,    0,  350, ...,   43,    0,    0],\n",
       "       ...,\n",
       "       [   0,    3, 1200, ...,   39,    6,    0],\n",
       "       [   1,    0,  600, ...,   33,    6,    0],\n",
       "       [   0,    0,  800, ...,   29,    6,    0]], shape=(577, 11))"
      ]
     },
     "execution_count": 7,
     "metadata": {},
     "output_type": "execute_result"
    }
   ],
   "source": [
    "X_test"
   ]
  },
  {
   "cell_type": "code",
   "execution_count": 8,
   "id": "d429be14-4275-4465-9ca6-d2f924f7fadb",
   "metadata": {},
   "outputs": [],
   "source": [
    "#Função para fatiamento dos conjuntos de dados\n",
    "from sklearn.model_selection import train_test_split"
   ]
  },
  {
   "cell_type": "code",
   "execution_count": 9,
   "id": "8e7a8e79-abd9-41e2-8167-87d5892ecd84",
   "metadata": {},
   "outputs": [],
   "source": [
    "#Separação de treino e validação\n",
    "X_train, X_val, y_train, y_val = train_test_split(X_train_, y_train_, #Conjuntos de dados\n",
    "                                                  train_size=0.8,     #Tamanho da fatia de treinamento\n",
    "                                                  random_state=31)"
   ]
  },
  {
   "cell_type": "code",
   "execution_count": 10,
   "id": "9fdf62d8-0b3a-4983-b1e5-111d5d6bc42f",
   "metadata": {},
   "outputs": [
    {
     "name": "stdout",
     "output_type": "stream",
     "text": [
      "   ESCT  NDEP  RENDA  TIPOR  VBEM  NPARC  VPARC  TEL  IDADE  RESMS  ENTRADA  \\\n",
      "0     1     0    360      0   313      9     52    0     25     48        0   \n",
      "1     0     0    350      1   468     10     65    0     33      6        0   \n",
      "2     0     0   1100      0   829      9    125    0     56     48        0   \n",
      "3     0     0   3000      0   552     12     76    1     31     60        0   \n",
      "4     1     0   1000      0   809     12    111    0     24      7        0   \n",
      "\n",
      "   CLASSE  \n",
      "0       1  \n",
      "1       1  \n",
      "2       1  \n",
      "3       1  \n",
      "4       1  \n",
      "\n",
      "   ESCT  NDEP  RENDA  TIPOR  VBEM  NPARC  VPARC  TEL  IDADE  RESMS  ENTRADA  \\\n",
      "0     0     2    500      1   618     10     85    0     36      6        0   \n",
      "1     1     0    813      0   552      4    119    0     43     48      119   \n",
      "2     3     0    350      0   488     12     66    0     43      0        0   \n",
      "3     1     0   1530      0   381      1    398    0     28     48        0   \n",
      "4     0     0    688      1   396     10     60    0     49     72        0   \n",
      "\n",
      "   CLASSE  \n",
      "0       0  \n",
      "1       1  \n",
      "2       1  \n",
      "3       1  \n",
      "4       1  \n",
      "\n",
      "[  1   0 649   1 311   2  69   1  40   0 190]\n",
      "\n",
      "0\n"
     ]
    }
   ],
   "source": [
    "#Checagem rápida de parte dos dados carregados\n",
    "print(data_train.head(),\n",
    "      data_test.head(),\n",
    "      X_train[0],\n",
    "      y_train[0],\n",
    "      sep='\\n\\n')"
   ]
  },
  {
   "cell_type": "code",
   "execution_count": null,
   "id": "acd8fba5-ccd7-4979-ae98-b47b0d7ba107",
   "metadata": {},
   "outputs": [],
   "source": []
  }
 ],
 "metadata": {
  "kernelspec": {
   "display_name": "Python 3 (ipykernel)",
   "language": "python",
   "name": "python3"
  },
  "language_info": {
   "codemirror_mode": {
    "name": "ipython",
    "version": 3
   },
   "file_extension": ".py",
   "mimetype": "text/x-python",
   "name": "python",
   "nbconvert_exporter": "python",
   "pygments_lexer": "ipython3",
   "version": "3.12.8"
  }
 },
 "nbformat": 4,
 "nbformat_minor": 5
}
